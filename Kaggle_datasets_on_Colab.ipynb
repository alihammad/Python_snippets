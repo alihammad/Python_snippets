{
  "nbformat": 4,
  "nbformat_minor": 0,
  "metadata": {
    "colab": {
      "name": "Kaggle_datasets_on_Colab.ipynb",
      "provenance": [],
      "collapsed_sections": [],
      "include_colab_link": true
    },
    "kernelspec": {
      "name": "python3",
      "display_name": "Python 3"
    }
  },
  "cells": [
    {
      "cell_type": "markdown",
      "metadata": {
        "id": "view-in-github",
        "colab_type": "text"
      },
      "source": [
        "<a href=\"https://colab.research.google.com/github/alihammad/Python_snippets/blob/master/Kaggle_datasets_on_Colab.ipynb\" target=\"_parent\"><img src=\"https://colab.research.google.com/assets/colab-badge.svg\" alt=\"Open In Colab\"/></a>"
      ]
    },
    {
      "cell_type": "markdown",
      "metadata": {
        "id": "EKr52adE4Yrs",
        "colab_type": "text"
      },
      "source": [
        "How do you easily move your datasets from Kaggle into Google Colab without a lot of complicated madness?\n",
        "\n",
        "Let's see."
      ]
    },
    {
      "cell_type": "markdown",
      "metadata": {
        "id": "nsfWscny4w3U",
        "colab_type": "text"
      },
      "source": [
        "\n",
        "**Step1** Login to your Kaggle account and got to *My Account*\n",
        "\n",
        "![alt text](https://drive.google.com/open?id=1LI-ppbbQtouo7jAuCd6JzIHncaZDKpmZ)!"
      ]
    },
    {
      "cell_type": "code",
      "metadata": {
        "id": "NITZs8VTyQu6",
        "colab_type": "code",
        "outputId": "2cb98efc-982d-44a1-af6a-61b16b24afc3",
        "colab": {
          "base_uri": "https://localhost:8080/",
          "height": 204
        }
      },
      "source": [
        "!pip install kaggle"
      ],
      "execution_count": 0,
      "outputs": [
        {
          "output_type": "stream",
          "text": [
            "Requirement already satisfied: kaggle in /usr/local/lib/python3.6/dist-packages (1.5.5)\n",
            "Requirement already satisfied: python-slugify in /usr/local/lib/python3.6/dist-packages (from kaggle) (3.0.3)\n",
            "Requirement already satisfied: requests in /usr/local/lib/python3.6/dist-packages (from kaggle) (2.21.0)\n",
            "Requirement already satisfied: python-dateutil in /usr/local/lib/python3.6/dist-packages (from kaggle) (2.5.3)\n",
            "Requirement already satisfied: six>=1.10 in /usr/local/lib/python3.6/dist-packages (from kaggle) (1.12.0)\n",
            "Requirement already satisfied: urllib3<1.25,>=1.21.1 in /usr/local/lib/python3.6/dist-packages (from kaggle) (1.24.3)\n",
            "Requirement already satisfied: certifi in /usr/local/lib/python3.6/dist-packages (from kaggle) (2019.6.16)\n",
            "Requirement already satisfied: tqdm in /usr/local/lib/python3.6/dist-packages (from kaggle) (4.28.1)\n",
            "Requirement already satisfied: text-unidecode==1.2 in /usr/local/lib/python3.6/dist-packages (from python-slugify->kaggle) (1.2)\n",
            "Requirement already satisfied: chardet<3.1.0,>=3.0.2 in /usr/local/lib/python3.6/dist-packages (from requests->kaggle) (3.0.4)\n",
            "Requirement already satisfied: idna<2.9,>=2.5 in /usr/local/lib/python3.6/dist-packages (from requests->kaggle) (2.8)\n"
          ],
          "name": "stdout"
        }
      ]
    },
    {
      "cell_type": "markdown",
      "metadata": {
        "id": "aBHtB8MEDr5p",
        "colab_type": "text"
      },
      "source": [
        "**Install Kaggle package**\n",
        "\n"
      ]
    },
    {
      "cell_type": "code",
      "metadata": {
        "id": "aZwQ4Rnca79o",
        "colab_type": "code",
        "outputId": "059e3497-a45e-451f-9c08-dbf5b30836ac",
        "colab": {
          "base_uri": "https://localhost:8080/",
          "height": 68
        }
      },
      "source": [
        "!ls -la ~/.kaggle"
      ],
      "execution_count": 0,
      "outputs": [
        {
          "output_type": "stream",
          "text": [
            "total 12\n",
            "drwxr-xr-x 2 root root 4096 Sep 26 05:27 .\n",
            "drwx------ 1 root root 4096 Sep 26 05:27 ..\n"
          ],
          "name": "stdout"
        }
      ]
    },
    {
      "cell_type": "markdown",
      "metadata": {
        "id": "8MB_vHLJEBL8",
        "colab_type": "text"
      },
      "source": [
        "**create directory to store kaggle API token JSON file**"
      ]
    },
    {
      "cell_type": "code",
      "metadata": {
        "id": "v_C6j9GszF79",
        "colab_type": "code",
        "colab": {}
      },
      "source": [
        "import json\n",
        "import zipfile\n",
        "import os\n",
        "\n",
        "!mkdir .kaggle"
      ],
      "execution_count": 0,
      "outputs": []
    },
    {
      "cell_type": "code",
      "metadata": {
        "id": "hO3iU3qmzE3Y",
        "colab_type": "code",
        "colab": {}
      },
      "source": [
        "api_token = {\"username\":\"alibaig\",\"key\":\"PROVIDE_YOUR_KAGGLE_KEY_HERE\"}\n",
        "\n",
        "with open('/content/.kaggle/kaggle.json', 'w') as file:\n",
        "    json.dump(api_token, file)"
      ],
      "execution_count": 0,
      "outputs": []
    },
    {
      "cell_type": "code",
      "metadata": {
        "id": "sUQj-QPB2tUD",
        "colab_type": "code",
        "colab": {}
      },
      "source": [
        "cp /content/.kaggle/kaggle.json ~/.kaggle/kaggle.json"
      ],
      "execution_count": 0,
      "outputs": []
    },
    {
      "cell_type": "code",
      "metadata": {
        "id": "dH8BqcAV2wbz",
        "colab_type": "code",
        "outputId": "67c13367-b2b3-424c-c3d7-f15b3218de20",
        "colab": {
          "base_uri": "https://localhost:8080/",
          "height": 51
        }
      },
      "source": [
        "!kaggle config set -n path -v{/content}"
      ],
      "execution_count": 0,
      "outputs": [
        {
          "output_type": "stream",
          "text": [
            "Warning: Your Kaggle API key is readable by other users on this system! To fix this, you can run 'chmod 600 /root/.kaggle/kaggle.json'\n",
            "- path is now set to: {/content}\n"
          ],
          "name": "stdout"
        }
      ]
    },
    {
      "cell_type": "code",
      "metadata": {
        "id": "wkwRhCvmzPdU",
        "colab_type": "code",
        "colab": {}
      },
      "source": [
        "!chmod 600 /root/.kaggle/kaggle.json"
      ],
      "execution_count": 0,
      "outputs": []
    },
    {
      "cell_type": "code",
      "metadata": {
        "id": "oIqwKNNZ1Dee",
        "colab_type": "code",
        "outputId": "fbc83ed3-264e-4452-d7e3-44422f2ab4ae",
        "colab": {
          "base_uri": "https://localhost:8080/",
          "height": 408
        }
      },
      "source": [
        "!kaggle datasets list"
      ],
      "execution_count": 0,
      "outputs": [
        {
          "output_type": "stream",
          "text": [
            "Warning: Looks like you're using an outdated API Version, please consider updating (server 1.5.6 / client 1.5.4)\n",
            "ref                                                       title                                              size  lastUpdated          downloadCount  \n",
            "--------------------------------------------------------  ------------------------------------------------  -----  -------------------  -------------  \n",
            "therohk/ireland-historical-news                           The Irish Times - Waxy-Wany News                   47MB  2019-08-24 15:36:54           2060  \n",
            "dgomonov/new-york-city-airbnb-open-data                   New York City Airbnb Open Data                      2MB  2019-08-12 16:24:45          18481  \n",
            "lakshyaag/india-trade-data                                India - Trade Data                                  1MB  2019-08-16 16:13:58           9288  \n",
            "bradklassen/pga-tour-20102018-data                        PGA Tour Golf Data                                 94MB  2019-08-30 00:09:59           6283  \n",
            "r3w0p4/bournemouth-venues                                 Venues in Bournemouth                               3KB  2019-07-08 14:26:48           1514  \n",
            "AnalyzeBoston/crimes-in-boston                            Crimes in Boston                                   10MB  2018-09-04 17:56:03          20940  \n",
            "dareenalharthi/jamalon-arabic-books-dataset               Jamalon Arabic Books Dataset                        1MB  2019-08-15 18:58:06            496  \n",
            "samhiatt/xenocanto-avian-vocalizations-canv-usa           Avian Vocalizations from CA & NV, USA               1GB  2019-08-10 00:16:10            345  \n",
            "codersree/mount-rainier-weather-and-climbing-data         Mount Rainier Weather and Climbing Data            25KB  2019-08-27 23:33:36           1629  \n",
            "citizen-ds-ghana/health-facilities-gh                     Ghana Health Facilities                            84KB  2018-09-03 01:19:24           2245  \n",
            "doit-intl/autotel-shared-car-locations                    Shared Cars Locations                              78MB  2019-01-10 13:06:00           2692  \n",
            "jolasa/waves-measuring-buoys-data-mooloolaba              Waves Measuring Buoys Data                        599KB  2019-07-07 16:59:44           2718  \n",
            "ma7555/schengen-visa-stats                                Schengen Visa Stats 2017/2018                       1MB  2019-07-25 10:55:37           1443  \n",
            "lishuyangkaggle/cocktails-hotaling-co                     Cocktails (Hotaling & Co.)                         75KB  2019-07-08 23:49:34           1385  \n",
            "Madgrades/uw-madison-courses                              UW Madison Courses and Grades 2006-2017            90MB  2018-05-15 18:58:25           2023  \n",
            "inIT-OWL/vega-shrinkwrapper-runtofailure-data             Vega shrink-wrapper component degradation         408KB  2018-11-12 13:03:43            441  \n",
            "martj42/international-football-results-from-1872-to-2017  International football results from 1872 to 2019  523KB  2019-07-22 17:03:13          20851  \n",
            "citylines/city-lines                                      Transit systems of world                            3MB  2019-03-25 16:53:05           3569  \n",
            "datafiniti/pizza-restaurants-and-the-pizza-they-sell      Pizza Restaurants and the Pizza They Sell         865KB  2019-05-30 00:21:21           9824  \n",
            "university-of-edinburgh/peace-agreements-dataset          Peace Agreements Dataset                            1MB  2018-03-05 16:39:50           1242  \n"
          ],
          "name": "stdout"
        }
      ]
    },
    {
      "cell_type": "code",
      "metadata": {
        "id": "Za4UynFF11Sg",
        "colab_type": "code",
        "outputId": "1c225e2f-f52f-42ff-f773-b1b124d82126",
        "colab": {
          "base_uri": "https://localhost:8080/",
          "height": 408
        }
      },
      "source": [
        "!kaggle datasets list -s sentiment"
      ],
      "execution_count": 0,
      "outputs": [
        {
          "output_type": "stream",
          "text": [
            "Warning: Looks like you're using an outdated API Version, please consider updating (server 1.5.6 / client 1.5.4)\n",
            "ref                                                    title                                          size  lastUpdated          downloadCount  \n",
            "-----------------------------------------------------  --------------------------------------------  -----  -------------------  -------------  \n",
            "crowdflower/twitter-airline-sentiment                  Twitter US Airline Sentiment                     0B  2016-10-06 03:11:23          30760  \n",
            "harriken/emoji-sentiment                               Emoji sentiment                                12MB  2017-10-01 09:56:54           2098  \n",
            "bittlingmayer/amazonreviews                            Amazon Reviews for Sentiment Analysis         493MB  2017-05-24 13:05:13          17313  \n",
            "kazanova/sentiment140                                  Sentiment140 dataset with 1.6 million tweets   81MB  2017-09-13 22:43:19          17626  \n",
            "crowdflower/first-gop-debate-twitter-sentiment         First GOP Debate Twitter Sentiment               0B  2016-10-06 03:19:29          14374  \n",
            "marklvl/sentiment-labelled-sentences-data-set          Sentiment Labelled Sentences Data Set         162KB  2018-04-24 21:20:20           2901  \n",
            "cjroth/chronist                                        Emotion, Aging, and Sentiment Over Time        13MB  2017-02-12 22:44:03           1167  \n",
            "arkhoshghalb/twitter-sentiment-analysis-hatred-speech  Twitter Sentiment Analysis                      2MB  2019-01-06 05:00:19            999  \n",
            "welkin10/airline-sentiment                             Airline sentiment                               1MB  2018-05-27 07:23:18            367  \n",
            "iarunava/imdb-movie-reviews-dataset                    IMDB Movie Reviews Dataset                    114MB  2018-07-25 08:11:18           9059  \n",
            "rtatman/sentiment-lexicons-for-81-languages            Sentiment Lexicons for 81 Languages             2MB  2017-09-13 19:59:05           4293  \n",
            "sonaam1234/sentimentdata                               Sentiment Analysis Dataset                       0B  2016-11-26 16:26:05           1957  \n",
            "thomasseleck/emoji-sentiment-data                      Emoji sentiment data                           33KB  2019-03-01 22:41:15            177  \n",
            "mksaad/arabic-sentiment-twitter-corpus                 Arabic Sentiment Twitter Corpus                 2MB  2019-04-13 18:07:18            319  \n",
            "tentotheminus9/religious-and-philosophical-texts       Religious and philosophical texts                0B  2016-09-07 12:36:01           1945  \n",
            "rtatman/thai-sentiment-analysis-toolkit                Thai Sentiment Analysis Toolkit                 8KB  2017-09-06 20:32:55            482  \n",
            "harriken/bias-media-cat                                Bias Media CAT                                 17MB  2017-10-27 22:46:25            283  \n",
            "rahulin05/sentiment-labelled-sentences-data-set        Sentiment Labelled Sentences Data Set          80KB  2017-08-31 14:07:09            962  \n",
            "rtatman/german-sentiment-analysis-toolkit              German Sentiment Analysis Toolkit              84KB  2017-08-15 22:54:27            685  \n",
            "paul92s/bitcoin-tweets-14m                             Bitcoin Tweets 1.4M                           103MB  2018-08-04 15:47:51            266  \n"
          ],
          "name": "stdout"
        }
      ]
    },
    {
      "cell_type": "code",
      "metadata": {
        "id": "q58NBaPs3kjv",
        "colab_type": "code",
        "outputId": "c23b5c20-763f-443e-963e-1c7c53660cd4",
        "colab": {
          "base_uri": "https://localhost:8080/",
          "height": 68
        }
      },
      "source": [
        "!kaggle datasets download -d marcomolina/water-consumption-in-a-median-size-city -p /content"
      ],
      "execution_count": 0,
      "outputs": [
        {
          "output_type": "stream",
          "text": [
            "Downloading water-consumption-in-a-median-size-city.zip to /content\n",
            " 54% 5.00M/9.23M [00:00<00:00, 22.9MB/s]\n",
            "100% 9.23M/9.23M [00:00<00:00, 36.5MB/s]\n"
          ],
          "name": "stdout"
        }
      ]
    },
    {
      "cell_type": "code",
      "metadata": {
        "id": "xNQSX9s2316V",
        "colab_type": "code",
        "outputId": "d6349000-bab6-4518-db65-55b34d22a211",
        "colab": {
          "base_uri": "https://localhost:8080/",
          "height": 51
        }
      },
      "source": [
        "!unzip \\*.zip"
      ],
      "execution_count": 0,
      "outputs": [
        {
          "output_type": "stream",
          "text": [
            "Archive:  water-consumption-in-a-median-size-city.zip\n",
            "  inflating: AguaH.csv               \n"
          ],
          "name": "stdout"
        }
      ]
    },
    {
      "cell_type": "code",
      "metadata": {
        "id": "R-majUhd4KGu",
        "colab_type": "code",
        "outputId": "2d20ffad-6ee7-4b22-9da6-8c9288d00e44",
        "colab": {
          "base_uri": "https://localhost:8080/",
          "height": 338
        }
      },
      "source": [
        "import pandas as pd\n",
        "d = pd.read_csv('AguaH.csv')\n",
        "d.head()"
      ],
      "execution_count": 0,
      "outputs": [
        {
          "output_type": "execute_result",
          "data": {
            "text/html": [
              "<div>\n",
              "<style scoped>\n",
              "    .dataframe tbody tr th:only-of-type {\n",
              "        vertical-align: middle;\n",
              "    }\n",
              "\n",
              "    .dataframe tbody tr th {\n",
              "        vertical-align: top;\n",
              "    }\n",
              "\n",
              "    .dataframe thead th {\n",
              "        text-align: right;\n",
              "    }\n",
              "</style>\n",
              "<table border=\"1\" class=\"dataframe\">\n",
              "  <thead>\n",
              "    <tr style=\"text-align: right;\">\n",
              "      <th></th>\n",
              "      <th>USO2013</th>\n",
              "      <th>TU</th>\n",
              "      <th>DC</th>\n",
              "      <th>M</th>\n",
              "      <th>UL</th>\n",
              "      <th>f.1_ENE_09</th>\n",
              "      <th>f.1_FEB_09</th>\n",
              "      <th>f.1_MAR_09</th>\n",
              "      <th>f.1_ABR_09</th>\n",
              "      <th>f.1_MAY_09</th>\n",
              "      <th>f.1_JUN_09</th>\n",
              "      <th>f.1_JUL_09</th>\n",
              "      <th>f.1_AGO_09</th>\n",
              "      <th>f.1_SEP_09</th>\n",
              "      <th>f.1_OCT_09</th>\n",
              "      <th>f.1_NOV_09</th>\n",
              "      <th>f.1_DIC_09</th>\n",
              "      <th>f.1_ENE_10</th>\n",
              "      <th>f.1_FEB_10</th>\n",
              "      <th>f.1_MAR_10</th>\n",
              "      <th>f.1_ABR_10</th>\n",
              "      <th>f.1_MAY_10</th>\n",
              "      <th>f.1_JUN_10</th>\n",
              "      <th>f.1_JUL_10</th>\n",
              "      <th>f.1_AGO_10</th>\n",
              "      <th>f.1_SEP_10</th>\n",
              "      <th>f.1_OCT_10</th>\n",
              "      <th>f.1_NOV_10</th>\n",
              "      <th>f.1_DIC_10</th>\n",
              "      <th>f.1_ENE_11</th>\n",
              "      <th>f.1_FEB_11</th>\n",
              "      <th>f.1_MAR_11</th>\n",
              "      <th>f.1_ABR_11</th>\n",
              "      <th>f.1_MAY_11</th>\n",
              "      <th>f.1_JUN_11</th>\n",
              "      <th>f.1_JUL_11</th>\n",
              "      <th>f.1_AGO_11</th>\n",
              "      <th>f.1_SEP_11</th>\n",
              "      <th>f.1_OCT_11</th>\n",
              "      <th>f.1_NOV_11</th>\n",
              "      <th>...</th>\n",
              "      <th>f.1_SEP_12</th>\n",
              "      <th>f.1_OCT_12</th>\n",
              "      <th>f.1_NOV_12</th>\n",
              "      <th>f.1_DIC_12</th>\n",
              "      <th>f.1_ENE_13</th>\n",
              "      <th>f.1_FEB_13</th>\n",
              "      <th>f.1_MAR_13</th>\n",
              "      <th>f.1_ABR_13</th>\n",
              "      <th>f.1_MAY_13</th>\n",
              "      <th>f.1_JUN_13</th>\n",
              "      <th>f.1_JUL_13</th>\n",
              "      <th>f.1_AGO_13</th>\n",
              "      <th>f.1_SEP_13</th>\n",
              "      <th>f.1_OCT_13</th>\n",
              "      <th>f.1_NOV_13</th>\n",
              "      <th>f.1_DIC_13</th>\n",
              "      <th>f.1_ENE_14</th>\n",
              "      <th>f.1_FEB_14</th>\n",
              "      <th>f.1_MAR_14</th>\n",
              "      <th>f.1_ABR_14</th>\n",
              "      <th>f.1_MAY_14</th>\n",
              "      <th>f.1_JUN_14</th>\n",
              "      <th>f.1_JUL_14</th>\n",
              "      <th>f.1_AGO_14</th>\n",
              "      <th>f.1_SEP_14</th>\n",
              "      <th>f.1_OCT_14</th>\n",
              "      <th>f.1_NOV_14</th>\n",
              "      <th>f.1_DIC_14</th>\n",
              "      <th>f.1_ENE_15</th>\n",
              "      <th>f.1_FEB_15</th>\n",
              "      <th>f.1_MAR_15</th>\n",
              "      <th>f.1_ABR_15</th>\n",
              "      <th>f.1_MAY_15</th>\n",
              "      <th>f.1_JUN_15</th>\n",
              "      <th>f.1_JUL_15</th>\n",
              "      <th>f.1_AGO_15</th>\n",
              "      <th>f.1_SEP_15</th>\n",
              "      <th>f.1_OCT_15</th>\n",
              "      <th>f.1_NOV_15</th>\n",
              "      <th>f.1_DIC_15</th>\n",
              "    </tr>\n",
              "  </thead>\n",
              "  <tbody>\n",
              "    <tr>\n",
              "      <th>0</th>\n",
              "      <td>H3</td>\n",
              "      <td>DOMESTICO MEDIO</td>\n",
              "      <td>0.5</td>\n",
              "      <td>MSDELAUNET</td>\n",
              "      <td>197.0</td>\n",
              "      <td>20.0</td>\n",
              "      <td>20.0</td>\n",
              "      <td>20.0</td>\n",
              "      <td>20.0</td>\n",
              "      <td>20.0</td>\n",
              "      <td>20.0</td>\n",
              "      <td>20.0</td>\n",
              "      <td>20.0</td>\n",
              "      <td>20.0</td>\n",
              "      <td>20.0</td>\n",
              "      <td>20.0</td>\n",
              "      <td>20.0</td>\n",
              "      <td>20.0</td>\n",
              "      <td>20.0</td>\n",
              "      <td>20.0</td>\n",
              "      <td>20.0</td>\n",
              "      <td>20.0</td>\n",
              "      <td>20.0</td>\n",
              "      <td>20.0</td>\n",
              "      <td>20.0</td>\n",
              "      <td>20.0</td>\n",
              "      <td>20.0</td>\n",
              "      <td>20.0</td>\n",
              "      <td>20.0</td>\n",
              "      <td>20.0</td>\n",
              "      <td>20.0</td>\n",
              "      <td>20.0</td>\n",
              "      <td>20.0</td>\n",
              "      <td>20.0</td>\n",
              "      <td>10.0</td>\n",
              "      <td>10.0</td>\n",
              "      <td>10.0</td>\n",
              "      <td>10.0</td>\n",
              "      <td>10.0</td>\n",
              "      <td>10.0</td>\n",
              "      <td>...</td>\n",
              "      <td>10.0</td>\n",
              "      <td>10.0</td>\n",
              "      <td>10.0</td>\n",
              "      <td>10.0</td>\n",
              "      <td>10.0</td>\n",
              "      <td>10.0</td>\n",
              "      <td>10.0</td>\n",
              "      <td>10.0</td>\n",
              "      <td>10.0</td>\n",
              "      <td>10.0</td>\n",
              "      <td>10.0</td>\n",
              "      <td>24.0</td>\n",
              "      <td>24.0</td>\n",
              "      <td>24.0</td>\n",
              "      <td>24.0</td>\n",
              "      <td>1.0</td>\n",
              "      <td>17.0</td>\n",
              "      <td>0.0</td>\n",
              "      <td>14.0</td>\n",
              "      <td>0.0</td>\n",
              "      <td>1.0</td>\n",
              "      <td>1.0</td>\n",
              "      <td>0.0</td>\n",
              "      <td>1.0</td>\n",
              "      <td>1.0</td>\n",
              "      <td>2.0</td>\n",
              "      <td>0.0</td>\n",
              "      <td>0.0</td>\n",
              "      <td>0.0</td>\n",
              "      <td>0.0</td>\n",
              "      <td>2.0</td>\n",
              "      <td>1.0</td>\n",
              "      <td>2.0</td>\n",
              "      <td>1.0</td>\n",
              "      <td>7.0</td>\n",
              "      <td>7.0</td>\n",
              "      <td>42.0</td>\n",
              "      <td>27.0</td>\n",
              "      <td>22.0</td>\n",
              "      <td>21.0</td>\n",
              "    </tr>\n",
              "    <tr>\n",
              "      <th>1</th>\n",
              "      <td>H3</td>\n",
              "      <td>DOMESTICO MEDIO</td>\n",
              "      <td>0.5</td>\n",
              "      <td>MSDELAUNET</td>\n",
              "      <td>307.0</td>\n",
              "      <td>NaN</td>\n",
              "      <td>30.0</td>\n",
              "      <td>30.0</td>\n",
              "      <td>30.0</td>\n",
              "      <td>30.0</td>\n",
              "      <td>30.0</td>\n",
              "      <td>30.0</td>\n",
              "      <td>30.0</td>\n",
              "      <td>30.0</td>\n",
              "      <td>30.0</td>\n",
              "      <td>30.0</td>\n",
              "      <td>30.0</td>\n",
              "      <td>30.0</td>\n",
              "      <td>30.0</td>\n",
              "      <td>30.0</td>\n",
              "      <td>30.0</td>\n",
              "      <td>30.0</td>\n",
              "      <td>30.0</td>\n",
              "      <td>30.0</td>\n",
              "      <td>30.0</td>\n",
              "      <td>30.0</td>\n",
              "      <td>30.0</td>\n",
              "      <td>30.0</td>\n",
              "      <td>30.0</td>\n",
              "      <td>30.0</td>\n",
              "      <td>30.0</td>\n",
              "      <td>30.0</td>\n",
              "      <td>30.0</td>\n",
              "      <td>30.0</td>\n",
              "      <td>30.0</td>\n",
              "      <td>30.0</td>\n",
              "      <td>30.0</td>\n",
              "      <td>30.0</td>\n",
              "      <td>30.0</td>\n",
              "      <td>30.0</td>\n",
              "      <td>...</td>\n",
              "      <td>30.0</td>\n",
              "      <td>30.0</td>\n",
              "      <td>30.0</td>\n",
              "      <td>30.0</td>\n",
              "      <td>30.0</td>\n",
              "      <td>30.0</td>\n",
              "      <td>30.0</td>\n",
              "      <td>30.0</td>\n",
              "      <td>30.0</td>\n",
              "      <td>30.0</td>\n",
              "      <td>30.0</td>\n",
              "      <td>30.0</td>\n",
              "      <td>30.0</td>\n",
              "      <td>30.0</td>\n",
              "      <td>30.0</td>\n",
              "      <td>29.0</td>\n",
              "      <td>29.0</td>\n",
              "      <td>29.0</td>\n",
              "      <td>0.0</td>\n",
              "      <td>11.0</td>\n",
              "      <td>20.0</td>\n",
              "      <td>19.0</td>\n",
              "      <td>0.0</td>\n",
              "      <td>16.0</td>\n",
              "      <td>10.0</td>\n",
              "      <td>12.0</td>\n",
              "      <td>12.0</td>\n",
              "      <td>11.0</td>\n",
              "      <td>0.0</td>\n",
              "      <td>8.0</td>\n",
              "      <td>11.0</td>\n",
              "      <td>13.0</td>\n",
              "      <td>16.0</td>\n",
              "      <td>14.0</td>\n",
              "      <td>15.0</td>\n",
              "      <td>16.0</td>\n",
              "      <td>13.0</td>\n",
              "      <td>17.0</td>\n",
              "      <td>17.0</td>\n",
              "      <td>11.0</td>\n",
              "    </tr>\n",
              "    <tr>\n",
              "      <th>2</th>\n",
              "      <td>H3</td>\n",
              "      <td>DOMESTICO RESIDENCIAL</td>\n",
              "      <td>0.5</td>\n",
              "      <td>MSDELAUNET</td>\n",
              "      <td>179.0</td>\n",
              "      <td>NaN</td>\n",
              "      <td>NaN</td>\n",
              "      <td>NaN</td>\n",
              "      <td>NaN</td>\n",
              "      <td>NaN</td>\n",
              "      <td>NaN</td>\n",
              "      <td>NaN</td>\n",
              "      <td>NaN</td>\n",
              "      <td>NaN</td>\n",
              "      <td>NaN</td>\n",
              "      <td>NaN</td>\n",
              "      <td>NaN</td>\n",
              "      <td>NaN</td>\n",
              "      <td>NaN</td>\n",
              "      <td>NaN</td>\n",
              "      <td>NaN</td>\n",
              "      <td>NaN</td>\n",
              "      <td>NaN</td>\n",
              "      <td>NaN</td>\n",
              "      <td>NaN</td>\n",
              "      <td>NaN</td>\n",
              "      <td>NaN</td>\n",
              "      <td>NaN</td>\n",
              "      <td>NaN</td>\n",
              "      <td>NaN</td>\n",
              "      <td>NaN</td>\n",
              "      <td>NaN</td>\n",
              "      <td>NaN</td>\n",
              "      <td>NaN</td>\n",
              "      <td>NaN</td>\n",
              "      <td>NaN</td>\n",
              "      <td>NaN</td>\n",
              "      <td>NaN</td>\n",
              "      <td>NaN</td>\n",
              "      <td>NaN</td>\n",
              "      <td>...</td>\n",
              "      <td>NaN</td>\n",
              "      <td>NaN</td>\n",
              "      <td>NaN</td>\n",
              "      <td>NaN</td>\n",
              "      <td>NaN</td>\n",
              "      <td>NaN</td>\n",
              "      <td>NaN</td>\n",
              "      <td>NaN</td>\n",
              "      <td>NaN</td>\n",
              "      <td>NaN</td>\n",
              "      <td>NaN</td>\n",
              "      <td>NaN</td>\n",
              "      <td>NaN</td>\n",
              "      <td>NaN</td>\n",
              "      <td>NaN</td>\n",
              "      <td>NaN</td>\n",
              "      <td>NaN</td>\n",
              "      <td>NaN</td>\n",
              "      <td>20.0</td>\n",
              "      <td>20.0</td>\n",
              "      <td>16.0</td>\n",
              "      <td>12.0</td>\n",
              "      <td>11.0</td>\n",
              "      <td>9.0</td>\n",
              "      <td>9.0</td>\n",
              "      <td>7.0</td>\n",
              "      <td>11.0</td>\n",
              "      <td>7.0</td>\n",
              "      <td>11.0</td>\n",
              "      <td>8.0</td>\n",
              "      <td>6.0</td>\n",
              "      <td>9.0</td>\n",
              "      <td>7.0</td>\n",
              "      <td>8.0</td>\n",
              "      <td>8.0</td>\n",
              "      <td>10.0</td>\n",
              "      <td>12.0</td>\n",
              "      <td>9.0</td>\n",
              "      <td>6.0</td>\n",
              "      <td>3.0</td>\n",
              "    </tr>\n",
              "    <tr>\n",
              "      <th>3</th>\n",
              "      <td>H3</td>\n",
              "      <td>DOMESTICO MEDIO</td>\n",
              "      <td>0.5</td>\n",
              "      <td>CICASA MMD-15 S</td>\n",
              "      <td>852.0</td>\n",
              "      <td>NaN</td>\n",
              "      <td>NaN</td>\n",
              "      <td>NaN</td>\n",
              "      <td>NaN</td>\n",
              "      <td>NaN</td>\n",
              "      <td>NaN</td>\n",
              "      <td>NaN</td>\n",
              "      <td>NaN</td>\n",
              "      <td>NaN</td>\n",
              "      <td>NaN</td>\n",
              "      <td>NaN</td>\n",
              "      <td>NaN</td>\n",
              "      <td>NaN</td>\n",
              "      <td>NaN</td>\n",
              "      <td>NaN</td>\n",
              "      <td>NaN</td>\n",
              "      <td>NaN</td>\n",
              "      <td>NaN</td>\n",
              "      <td>25.0</td>\n",
              "      <td>25.0</td>\n",
              "      <td>25.0</td>\n",
              "      <td>25.0</td>\n",
              "      <td>25.0</td>\n",
              "      <td>25.0</td>\n",
              "      <td>25.0</td>\n",
              "      <td>25.0</td>\n",
              "      <td>4.0</td>\n",
              "      <td>34.0</td>\n",
              "      <td>18.0</td>\n",
              "      <td>9.0</td>\n",
              "      <td>24.0</td>\n",
              "      <td>20.0</td>\n",
              "      <td>15.0</td>\n",
              "      <td>7.0</td>\n",
              "      <td>8.0</td>\n",
              "      <td>...</td>\n",
              "      <td>17.0</td>\n",
              "      <td>13.0</td>\n",
              "      <td>13.0</td>\n",
              "      <td>13.0</td>\n",
              "      <td>2.0</td>\n",
              "      <td>13.0</td>\n",
              "      <td>11.0</td>\n",
              "      <td>0.0</td>\n",
              "      <td>8.0</td>\n",
              "      <td>7.0</td>\n",
              "      <td>6.0</td>\n",
              "      <td>54.0</td>\n",
              "      <td>20.0</td>\n",
              "      <td>12.0</td>\n",
              "      <td>9.0</td>\n",
              "      <td>17.0</td>\n",
              "      <td>5.0</td>\n",
              "      <td>19.0</td>\n",
              "      <td>0.0</td>\n",
              "      <td>13.0</td>\n",
              "      <td>9.0</td>\n",
              "      <td>9.0</td>\n",
              "      <td>49.0</td>\n",
              "      <td>30.0</td>\n",
              "      <td>23.0</td>\n",
              "      <td>21.0</td>\n",
              "      <td>23.0</td>\n",
              "      <td>25.0</td>\n",
              "      <td>0.0</td>\n",
              "      <td>13.0</td>\n",
              "      <td>17.0</td>\n",
              "      <td>20.0</td>\n",
              "      <td>16.0</td>\n",
              "      <td>16.0</td>\n",
              "      <td>18.0</td>\n",
              "      <td>18.0</td>\n",
              "      <td>17.0</td>\n",
              "      <td>17.0</td>\n",
              "      <td>18.0</td>\n",
              "      <td>9.0</td>\n",
              "    </tr>\n",
              "    <tr>\n",
              "      <th>4</th>\n",
              "      <td>H3</td>\n",
              "      <td>DOMESTICO RESIDENCIAL</td>\n",
              "      <td>0.5</td>\n",
              "      <td>NaN</td>\n",
              "      <td>NaN</td>\n",
              "      <td>20.0</td>\n",
              "      <td>20.0</td>\n",
              "      <td>20.0</td>\n",
              "      <td>20.0</td>\n",
              "      <td>20.0</td>\n",
              "      <td>20.0</td>\n",
              "      <td>20.0</td>\n",
              "      <td>20.0</td>\n",
              "      <td>20.0</td>\n",
              "      <td>20.0</td>\n",
              "      <td>20.0</td>\n",
              "      <td>20.0</td>\n",
              "      <td>20.0</td>\n",
              "      <td>20.0</td>\n",
              "      <td>20.0</td>\n",
              "      <td>20.0</td>\n",
              "      <td>20.0</td>\n",
              "      <td>20.0</td>\n",
              "      <td>20.0</td>\n",
              "      <td>20.0</td>\n",
              "      <td>20.0</td>\n",
              "      <td>20.0</td>\n",
              "      <td>20.0</td>\n",
              "      <td>20.0</td>\n",
              "      <td>20.0</td>\n",
              "      <td>20.0</td>\n",
              "      <td>20.0</td>\n",
              "      <td>20.0</td>\n",
              "      <td>20.0</td>\n",
              "      <td>20.0</td>\n",
              "      <td>20.0</td>\n",
              "      <td>20.0</td>\n",
              "      <td>20.0</td>\n",
              "      <td>20.0</td>\n",
              "      <td>20.0</td>\n",
              "      <td>...</td>\n",
              "      <td>20.0</td>\n",
              "      <td>20.0</td>\n",
              "      <td>20.0</td>\n",
              "      <td>20.0</td>\n",
              "      <td>20.0</td>\n",
              "      <td>20.0</td>\n",
              "      <td>20.0</td>\n",
              "      <td>20.0</td>\n",
              "      <td>20.0</td>\n",
              "      <td>20.0</td>\n",
              "      <td>20.0</td>\n",
              "      <td>24.0</td>\n",
              "      <td>24.0</td>\n",
              "      <td>24.0</td>\n",
              "      <td>24.0</td>\n",
              "      <td>24.0</td>\n",
              "      <td>24.0</td>\n",
              "      <td>24.0</td>\n",
              "      <td>24.0</td>\n",
              "      <td>24.0</td>\n",
              "      <td>23.0</td>\n",
              "      <td>23.0</td>\n",
              "      <td>0.0</td>\n",
              "      <td>72.0</td>\n",
              "      <td>27.0</td>\n",
              "      <td>27.0</td>\n",
              "      <td>42.0</td>\n",
              "      <td>30.0</td>\n",
              "      <td>0.0</td>\n",
              "      <td>31.0</td>\n",
              "      <td>27.0</td>\n",
              "      <td>27.0</td>\n",
              "      <td>27.0</td>\n",
              "      <td>28.0</td>\n",
              "      <td>28.0</td>\n",
              "      <td>31.0</td>\n",
              "      <td>27.0</td>\n",
              "      <td>27.0</td>\n",
              "      <td>27.0</td>\n",
              "      <td>24.0</td>\n",
              "    </tr>\n",
              "  </tbody>\n",
              "</table>\n",
              "<p>5 rows × 89 columns</p>\n",
              "</div>"
            ],
            "text/plain": [
              "  USO2013                     TU   DC  ... f.1_OCT_15  f.1_NOV_15  f.1_DIC_15\n",
              "0      H3        DOMESTICO MEDIO  0.5  ...       27.0        22.0        21.0\n",
              "1      H3        DOMESTICO MEDIO  0.5  ...       17.0        17.0        11.0\n",
              "2      H3  DOMESTICO RESIDENCIAL  0.5  ...        9.0         6.0         3.0\n",
              "3      H3        DOMESTICO MEDIO  0.5  ...       17.0        18.0         9.0\n",
              "4      H3  DOMESTICO RESIDENCIAL  0.5  ...       27.0        27.0        24.0\n",
              "\n",
              "[5 rows x 89 columns]"
            ]
          },
          "metadata": {
            "tags": []
          },
          "execution_count": 28
        }
      ]
    },
    {
      "cell_type": "code",
      "metadata": {
        "id": "EP_5ACURaDur",
        "colab_type": "code",
        "colab": {}
      },
      "source": [
        ""
      ],
      "execution_count": 0,
      "outputs": []
    }
  ]
}